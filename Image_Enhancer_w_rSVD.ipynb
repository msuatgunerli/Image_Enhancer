{
    "cells": [
        {
            "cell_type": "code",
            "execution_count": 632,
            "source": [
                "import matplotlib.pyplot as plt\r\n",
                "from matplotlib.image import imread\r\n",
                "import numpy as np\r\n",
                "import os\r\n",
                "import scipy.io\r\n",
                "from PIL import Image\r\n",
                "import cv2\r\n",
                "\r\n",
                "#!pip install scikit-image\r\n",
                "from skimage import color\r\n",
                "from skimage import io\r\n",
                "from skimage.io import imread, imsave\r\n",
                "\r\n",
                "plt.rcParams['figure.figsize'] = [8, 8]\r\n",
                "plt.rcParams.update({'font.size': 18})\r\n"
            ],
            "outputs": [],
            "metadata": {}
        },
        {
            "cell_type": "code",
            "execution_count": 633,
            "source": [
                "imgname = \"images/image0.jpg\""
            ],
            "outputs": [],
            "metadata": {}
        },
        {
            "cell_type": "markdown",
            "source": [
                "Increasing the resolution of the image ------------------------------------------------------------------------------------------------------------------------------------------------------------------------------------------------"
            ],
            "metadata": {}
        },
        {
            "cell_type": "code",
            "execution_count": 634,
            "source": [
                "img0 = io.imread(imgname)\r\n",
                "img1 = img0\r\n",
                "#img1 = color.rgb2gray(img0).astype(float)\r\n",
                "\r\n",
                "plt.imshow(img1) # Original image"
            ],
            "outputs": [
                {
                    "output_type": "execute_result",
                    "data": {
                        "text/plain": [
                            "<matplotlib.image.AxesImage at 0x1c9ce230b80>"
                        ]
                    },
                    "metadata": {},
                    "execution_count": 634
                },
                {
                    "output_type": "display_data",
                    "data": {
                        "text/plain": [
                            "<Figure size 576x576 with 1 Axes>"
                        ],
                        "image/png": "[encoded data removed]"
                    },
                    "metadata": {
                        "needs_background": "light"
                    }
                }
            ],
            "metadata": {}
        },
        {
            "cell_type": "code",
            "execution_count": 635,
            "source": [
                "def enhance(X, reps):\r\n",
                "\r\n",
                "    Y = np.repeat(X, repeats= reps, axis=0)\r\n",
                "    Z = np.repeat(Y, repeats= reps, axis=1)\r\n",
                "    return(Z)"
            ],
            "outputs": [],
            "metadata": {}
        },
        {
            "cell_type": "code",
            "execution_count": 649,
            "source": [
                "photo = enhance(img1, 3)\r\n",
                "imsave(\"images/Hi-Res.jpg\", photo, dpi=(300, 300), resample=Image.LANCZOS)\r\n",
                "plt.imshow(photo)  # Hi-Res image"
            ],
            "outputs": [
                {
                    "output_type": "execute_result",
                    "data": {
                        "text/plain": [
                            "<matplotlib.image.AxesImage at 0x1ca01c5a280>"
                        ]
                    },
                    "metadata": {},
                    "execution_count": 649
                },
                {
                    "output_type": "display_data",
                    "data": {
                        "text/plain": [
                            "<Figure size 576x576 with 1 Axes>"
                        ],
                        "image/png": "[encoded data removed]"
                    },
                    "metadata": {
                        "needs_background": "light"
                    }
                }
            ],
            "metadata": {}
        },
        {
            "cell_type": "markdown",
            "source": [
                "Using rSVD to compress the image in grayscale -----------------------------------------------------------------------------------------------------------------------------------------------------------------------------------------"
            ],
            "metadata": {}
        },
        {
            "cell_type": "code",
            "execution_count": 637,
            "source": [
                "# Define randomized SVD function\r\n",
                "def rSVD(X, r, q, p):\r\n",
                "    # Step 1: Sample column space of X with P matrix\r\n",
                "    ny = X.shape[1]\r\n",
                "    P = np.random.randn(ny, r+p)\r\n",
                "    Z = X @ P\r\n",
                "    for k in range(q):\r\n",
                "        Z = X @ (X.T @ Z)\r\n",
                "\r\n",
                "    Q, R = np.linalg.qr(Z, mode='reduced')\r\n",
                "\r\n",
                "    # Step 2: Compute SVD on projected Y = Q.T @ X\r\n",
                "    Y = Q.T @ X\r\n",
                "    UY, S, VT = np.linalg.svd(Y, full_matrices=0)\r\n",
                "    U = Q @ UY\r\n",
                "\r\n",
                "    return U, S, VT"
            ],
            "outputs": [],
            "metadata": {}
        },
        {
            "cell_type": "code",
            "execution_count": 638,
            "source": [
                "A = img0\r\n",
                "X = np.mean(A, axis=2)  # Convert RGB -> grayscale\r\n",
                "\r\n",
                "r = 400  # Target rank\r\n",
                "q = 1   # Power iterations\r\n",
                "p = 5   # Oversampling parameter\r\n",
                "\r\n",
                "rU, rS, rVT = rSVD(X, r, q, p)"
            ],
            "outputs": [],
            "metadata": {}
        },
        {
            "cell_type": "code",
            "execution_count": 639,
            "source": [
                "## Reconstruction\r\n",
                "XrSVD = rU[:, :(r+1)] @ np.diag(rS[:(r+1)]\r\n",
                "                                ) @ rVT[:(r+1), :]  # SVD approximation\r\n",
                "errSVD = np.linalg.norm(X-XrSVD, ord=2) / np.linalg.norm(X, ord=2)"
            ],
            "outputs": [],
            "metadata": {}
        },
        {
            "cell_type": "code",
            "execution_count": 640,
            "source": [
                "plt.set_cmap('gray')\r\n",
                "plt.imshow(XrSVD.astype('uint8'))  # Compressed image in grayscale only"
            ],
            "outputs": [
                {
                    "output_type": "execute_result",
                    "data": {
                        "text/plain": [
                            "<matplotlib.image.AxesImage at 0x1c9cdf005e0>"
                        ]
                    },
                    "metadata": {},
                    "execution_count": 640
                },
                {
                    "output_type": "display_data",
                    "data": {
                        "text/plain": [
                            "<Figure size 576x576 with 1 Axes>"
                        ],
                        "image/png": "[encoded data removed]"
                    },
                    "metadata": {
                        "needs_background": "light"
                    }
                }
            ],
            "metadata": {}
        },
        {
            "cell_type": "markdown",
            "source": [
                "Using rSVD to compress the image in color ---------------------------------------------------------------------------------------------------------------------------------------------------------------------------------------------"
            ],
            "metadata": {}
        },
        {
            "cell_type": "code",
            "execution_count": 641,
            "source": [
                "im = cv2.imread(imgname)\r\n",
                "im1_blue, im1_green, im1_red = cv2.split(im)\r\n",
                "\r\n",
                "#img = cv2.cvtColor(im, cv2.COLOR_BGR2RGB)\r\n",
                "#im_pil = Image.fromarray(img)\r\n",
                "\r\n",
                "k = np.zeros_like(im1_blue)\r\n",
                "bl = cv2.merge([k, k, im1_blue])\r\n",
                "gr = cv2.merge([k, im1_green, k])\r\n",
                "re = cv2.merge([im1_red, k, k])\r\n",
                "\r\n",
                "fig, axs = plt.subplots(1, 3)\r\n",
                "\r\n",
                "axs[0].imshow(re.astype('uint8'))\r\n",
                "axs[0].title.set_text('Red')\r\n",
                "axs[1].imshow(gr.astype('uint8'))\r\n",
                "axs[1].title.set_text('Green')\r\n",
                "axs[2].imshow(bl.astype('uint8'))\r\n",
                "axs[2].title.set_text('Blue')\r\n",
                "\r\n",
                "plt.show() # Shows all three color channels of the original image separately (tinted)\r\n"
            ],
            "outputs": [
                {
                    "output_type": "display_data",
                    "data": {
                        "text/plain": [
                            "<Figure size 576x576 with 3 Axes>"
                        ],
                        "image/png": "[encoded data removed]"
                    },
                    "metadata": {
                        "needs_background": "light"
                    }
                }
            ],
            "metadata": {}
        },
        {
            "cell_type": "code",
            "execution_count": 642,
            "source": [
                "A = img0\r\n",
                "X = np.mean(A, axis=2)  # Convert RGB -> grayscale\r\n",
                "\r\n",
                "r = 400  # Target rank\r\n",
                "q = 1   # Power iterations\r\n",
                "p = 5   # Oversampling parameter\r\n",
                "\r\n",
                "rU1, rS1, rVT1 = rSVD(im1_blue, r, q, p)\r\n",
                "rU2, rS2, rVT2 = rSVD(im1_green, r, q, p)\r\n",
                "rU3, rS3, rVT3 = rSVD(im1_red, r, q, p)\r\n",
                "\r\n",
                "XrSVD_blue = rU1[:, :(r+1)] @ np.diag(rS1[:(r+1)]\r\n",
                "                                ) @ rVT1[:(r+1), :]\r\n",
                "\r\n",
                "XrSVD_green = rU2[:, :(r+1)] @ np.diag(rS2[:(r+1)]\r\n",
                "                                ) @ rVT2[:(r+1), :]\r\n",
                "\r\n",
                "XrSVD_red = rU3[:, :(r+1)] @ np.diag(rS3[:(r+1)]\r\n",
                "                                  ) @ rVT3[:(r+1), :]\r\n"
            ],
            "outputs": [],
            "metadata": {}
        },
        {
            "cell_type": "code",
            "execution_count": 643,
            "source": [
                "fig, axs = plt.subplots(1, 3)\r\n",
                "\r\n",
                "k = np.zeros_like(XrSVD_blue)\r\n",
                "bl = cv2.merge([k, k, XrSVD_blue])\r\n",
                "gr = cv2.merge([k, XrSVD_green, k])\r\n",
                "re = cv2.merge([XrSVD_red, k, k])\r\n",
                "\r\n",
                "#plt.set_cmap('gray')\r\n",
                "axs[0].imshow(re.astype('uint8'))\r\n",
                "axs[0].title.set_text('Red')\r\n",
                "axs[1].imshow(gr.astype('uint8'))\r\n",
                "axs[1].title.set_text('Green')\r\n",
                "axs[2].imshow(bl.astype('uint8'))\r\n",
                "axs[2].title.set_text('Blue')\r\n",
                "\r\n",
                "plt.show() # Shows all three color channels of the compressed image separately\r\n"
            ],
            "outputs": [
                {
                    "output_type": "display_data",
                    "data": {
                        "text/plain": [
                            "<Figure size 576x576 with 3 Axes>"
                        ],
                        "image/png": "[encoded data removed]"
                    },
                    "metadata": {
                        "needs_background": "light"
                    }
                }
            ],
            "metadata": {}
        },
        {
            "cell_type": "code",
            "execution_count": 644,
            "source": [
                "RGB = cv2.merge([XrSVD_red, XrSVD_green, XrSVD_blue])\r\n",
                "plt.imshow(RGB.astype('uint8'))  # Compressed image"
            ],
            "outputs": [
                {
                    "output_type": "execute_result",
                    "data": {
                        "text/plain": [
                            "<matplotlib.image.AxesImage at 0x1ca01b5e610>"
                        ]
                    },
                    "metadata": {},
                    "execution_count": 644
                },
                {
                    "output_type": "display_data",
                    "data": {
                        "text/plain": [
                            "<Figure size 576x576 with 1 Axes>"
                        ],
                        "image/png": "[encoded data removed]"
                    },
                    "metadata": {
                        "needs_background": "light"
                    }
                }
            ],
            "metadata": {}
        },
        {
            "cell_type": "code",
            "execution_count": 645,
            "source": [
                "im = Image.open(imgname)\r\n",
                "print(im.size)\r\n"
            ],
            "outputs": [
                {
                    "output_type": "stream",
                    "name": "stdout",
                    "text": [
                        "(30, 30)\n"
                    ]
                }
            ],
            "metadata": {}
        },
        {
            "cell_type": "code",
            "execution_count": 646,
            "source": [
                "im = Image.open(\"images/Hi-Res.jpg\")\r\n",
                "print(im.size)"
            ],
            "outputs": [
                {
                    "output_type": "stream",
                    "name": "stdout",
                    "text": [
                        "(270, 270)\n"
                    ]
                }
            ],
            "metadata": {}
        }
    ],
    "metadata": {
        "orig_nbformat": 4,
        "language_info": {
            "name": "python",
            "version": "3.9.1",
            "mimetype": "text/x-python",
            "codemirror_mode": {
                "name": "ipython",
                "version": 3
            },
            "pygments_lexer": "ipython3",
            "nbconvert_exporter": "python",
            "file_extension": ".py"
        },
        "kernelspec": {
            "name": "python3",
            "display_name": "Python 3.9.1 64-bit"
        },
        "interpreter": {
            "hash": "279bdcc4b1225994454319e249f14e065da38b0d63d0b800dd9b7ab4e1708574"
        }
    },
    "nbformat": 4,
    "nbformat_minor": 2
}